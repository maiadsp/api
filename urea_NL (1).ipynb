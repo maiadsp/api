{
 "cells": [
  {
   "cell_type": "code",
   "execution_count": 1,
   "id": "fd82018f-d406-4449-8fc8-bb16f865b16a",
   "metadata": {
    "jupyter": {
     "source_hidden": true
    },
    "tags": []
   },
   "outputs": [],
   "source": [
    "import pandas as pd\n",
    "import numpy as np\n",
    "from tqdm import tqdm\n",
    "import ast\n",
    "from pandas.io.json import json_normalize\n",
    "import sys\n",
    "sys.path.insert(1, '../../modules')\n",
    "import loaders\n",
    "from dataclasses import dataclass, asdict \n",
    "from typing import List\n",
    "from datetime import date"
   ]
  },
  {
   "cell_type": "code",
   "execution_count": 2,
   "id": "f40d87c4-c67d-4df1-942a-5fdc06dfc39a",
   "metadata": {
    "jupyter": {
     "source_hidden": true
    },
    "tags": []
   },
   "outputs": [],
   "source": [
    "# Define a data class\n",
    "@dataclass\n",
    "class GttRawData:\n",
    "    # attribute name: attribute type\n",
    "    flowType: str\n",
    "    periodType: str\n",
    "    monthsToAggregate: int\n",
    "    reference_date: date\n",
    "    mirror: bool\n",
    "    reporter_id: int\n",
    "    reporter_code: int\n",
    "    reporter_name: str\n",
    "    reporter_description: str\n",
    "    reporter_dataSource: str\n",
    "    partner_id: int\n",
    "    partner_code: int\n",
    "    partner_name: str\n",
    "    commodity_code: int\n",
    "    commodity_description: str\n",
    "    value_unit: str\n",
    "    value_number: int\n",
    "    quantity1_unit: str\n",
    "    quantity1_number: int\n",
    "    quantity2_unit: str\n",
    "    quantity2_number: int"
   ]
  },
  {
   "cell_type": "code",
   "execution_count": 3,
   "id": "019f56d6-2690-45c7-bc21-03bceeb7d05e",
   "metadata": {
    "jupyter": {
     "source_hidden": true
    },
    "tags": []
   },
   "outputs": [],
   "source": [
    "# A second data class to transform data\n",
    "@dataclass\n",
    "class GttCleanData:\n",
    "    source_country_id: int\n",
    "    destination_country_id: int\n",
    "    reference_date: date\n",
    "    granularity_key: str\n",
    "    product_key: int\n",
    "    concentration: str\n",
    "    value: int"
   ]
  },
  {
   "cell_type": "code",
   "execution_count": 8,
   "id": "0c0f6d9d-562a-4435-9b6a-e818827e00b1",
   "metadata": {},
   "outputs": [],
   "source": [
    "def crawl_data(reporter, hscode, impexp):\n",
    "    PATTERN = 'https://www.globaltradetracker.com:443/api/rest/getreport?token=C0610496D526FC06563CBFF90EE6C5D8&reporter={}&from=2019-01&hscode={}&to=&latestmonths=&impexp={}&source=DEFAULT'\n",
    "    crawl = pd.read_json(PATTERN.format(reporter, hscode, impexp))\n",
    "    return crawl\n",
    "df = crawl_data('NL', '310210', 'I')"
   ]
  },
  {
   "cell_type": "code",
   "execution_count": 16,
   "id": "9331ad21-e1e9-44e5-b225-9ee471c91e6a",
   "metadata": {},
   "outputs": [],
   "source": [
    "#period = pd.json_normalize(df['period'])\n",
    "#period.columns = ['year', 'month']\n",
    "#period[\"reference_date\"] = period[\"year\"] + period[\"month\"]\n",
    "#period['reference_date'] = pd.to_datetime(period['reference_date'])"
   ]
  },
  {
   "cell_type": "code",
   "execution_count": 40,
   "id": "cebb3633-8ff1-42c8-ae0a-bdfc70f5f508",
   "metadata": {},
   "outputs": [
    {
     "ename": "ValueError",
     "evalue": "invalid literal for int() with base 10: ''",
     "output_type": "error",
     "traceback": [
      "\u001b[0;31m---------------------------------------------------------------------------\u001b[0m",
      "\u001b[0;31mValueError\u001b[0m                                Traceback (most recent call last)",
      "\u001b[0;32m/tmp/ipykernel_3139/3676683500.py\u001b[0m in \u001b[0;36m<module>\u001b[0;34m\u001b[0m\n\u001b[1;32m      2\u001b[0m \u001b[0;32mfor\u001b[0m \u001b[0mx\u001b[0m \u001b[0;32min\u001b[0m \u001b[0mstr\u001b[0m\u001b[0;34m(\u001b[0m\u001b[0mdf\u001b[0m\u001b[0;34m[\u001b[0m\u001b[0;34m'period'\u001b[0m\u001b[0;34m]\u001b[0m\u001b[0;34m)\u001b[0m\u001b[0;34m:\u001b[0m\u001b[0;34m\u001b[0m\u001b[0;34m\u001b[0m\u001b[0m\n\u001b[1;32m      3\u001b[0m     \u001b[0mk\u001b[0m \u001b[0;34m=\u001b[0m \u001b[0mx\u001b[0m\u001b[0;34m.\u001b[0m\u001b[0mstrip\u001b[0m\u001b[0;34m(\u001b[0m\u001b[0;34m)\u001b[0m\u001b[0;34m[\u001b[0m\u001b[0;36m1\u001b[0m\u001b[0;34m:\u001b[0m\u001b[0;34m-\u001b[0m\u001b[0;36m1\u001b[0m\u001b[0;34m]\u001b[0m\u001b[0;34m.\u001b[0m\u001b[0msplit\u001b[0m\u001b[0;34m(\u001b[0m\u001b[0;34m','\u001b[0m\u001b[0;34m)\u001b[0m\u001b[0;34m\u001b[0m\u001b[0;34m\u001b[0m\u001b[0m\n\u001b[0;32m----> 4\u001b[0;31m     \u001b[0myear\u001b[0m \u001b[0;34m=\u001b[0m \u001b[0mint\u001b[0m\u001b[0;34m(\u001b[0m\u001b[0mk\u001b[0m\u001b[0;34m[\u001b[0m\u001b[0;36m0\u001b[0m\u001b[0;34m]\u001b[0m\u001b[0;34m.\u001b[0m\u001b[0mstrip\u001b[0m\u001b[0;34m(\u001b[0m\u001b[0;34m)\u001b[0m\u001b[0;34m)\u001b[0m\u001b[0;34m\u001b[0m\u001b[0;34m\u001b[0m\u001b[0m\n\u001b[0m\u001b[1;32m      5\u001b[0m     \u001b[0mmonth\u001b[0m \u001b[0;34m=\u001b[0m \u001b[0mint\u001b[0m\u001b[0;34m(\u001b[0m\u001b[0mk\u001b[0m\u001b[0;34m[\u001b[0m\u001b[0;36m1\u001b[0m\u001b[0;34m]\u001b[0m\u001b[0;34m.\u001b[0m\u001b[0mstrip\u001b[0m\u001b[0;34m(\u001b[0m\u001b[0;34m)\u001b[0m\u001b[0;34m)\u001b[0m\u001b[0;34m\u001b[0m\u001b[0;34m\u001b[0m\u001b[0m\n",
      "\u001b[0;31mValueError\u001b[0m: invalid literal for int() with base 10: ''"
     ]
    }
   ],
   "source": [
    "#x = ['2020, 10']\n",
    "for x in str(df['period']):\n",
    "    k = x.strip()[1:-1].split(',')\n",
    "    year = int(k[0].strip())\n",
    "    month = int(k[1].strip())\n"
   ]
  },
  {
   "cell_type": "code",
   "execution_count": null,
   "id": "ac246935-26ef-4bfc-8a4e-6714cd6efcaa",
   "metadata": {},
   "outputs": [],
   "source": []
  },
  {
   "cell_type": "code",
   "execution_count": 5,
   "id": "4f411af8-5026-4af4-9e2c-7a08125b6929",
   "metadata": {},
   "outputs": [],
   "source": [
    "# Define the return type of the function in terms of our dataclass\n",
    "def get_raw_data() -> List[GttRawData]:\n",
    "    \n",
    "    def crawl_data(reporter, hscode, impexp):\n",
    "        PATTERN = 'https://www.globaltradetracker.com:443/api/rest/getreport?token=C0610496D526FC06563CBFF90EE6C5D8&reporter={}&from=2019-01&hscode={}&to=&latestmonths=&impexp={}&source=DEFAULT'\n",
    "        crawl = pd.read_json(PATTERN.format(reporter, hscode, impexp))\n",
    "        return crawl\n",
    "    \n",
    "    df = crawl_data('NL', '310210', 'I')\n",
    "    \n",
    "    def flat_data():\n",
    "        \n",
    "        reporter = pd.json_normalize(df['reporter'])\n",
    "        reporter.columns = ['reporter_id', 'reporter_code', 'reporter_name', 'reporter_description', 'reporter_dataSource']\n",
    "\n",
    "        partner = pd.json_normalize(df['partner'])\n",
    "        partner.columns = ['partner_id', 'partner_code', 'partner_name']\n",
    "\n",
    "        commodity = pd.json_normalize(df['commodity'])\n",
    "        commodity.columns = ['commodity_code', 'commodity_description']\n",
    "\n",
    "        value = pd.json_normalize(df['value'])\n",
    "        value.columns = ['value_unit', 'value_number']\n",
    "        \n",
    "        quantity1 = pd.json_normalize(df['quantity1'])\n",
    "        quantity1.columns = ['quantity1_unit', 'quantity1_number']\n",
    "\n",
    "        quantity2 = pd.json_normalize(df['quantity2'])\n",
    "        quantity2.columns = ['quantity2_unit', 'quantity2_number']\n",
    "        \n",
    "        dfx = pd.concat([df, reporter, partner, commodity, value, quantity1, quantity2], axis=1)\n",
    "        dfx = dfx.drop(columns=['reporter', 'partner', 'commodity', 'value', 'quantity1', 'quantity2'])\n",
    "        \n",
    "        df_dict = dfx.to_dict(orient=\"records\")\n",
    "        \n",
    "        return df_dict\n",
    "    \n",
    "    data = flat_data()\n",
    "    \n",
    "    return [GttRawData(**x) for x in data]"
   ]
  },
  {
   "cell_type": "code",
   "execution_count": 6,
   "id": "2f2c8c7f-6d6c-487d-ab56-3b30b715e356",
   "metadata": {
    "tags": []
   },
   "outputs": [
    {
     "ename": "AttributeError",
     "evalue": "'list' object has no attribute 'values'",
     "output_type": "error",
     "traceback": [
      "\u001b[0;31m---------------------------------------------------------------------------\u001b[0m",
      "\u001b[0;31mAttributeError\u001b[0m                            Traceback (most recent call last)",
      "\u001b[0;32m/tmp/ipykernel_3139/1980668802.py\u001b[0m in \u001b[0;36m<module>\u001b[0;34m\u001b[0m\n\u001b[1;32m      1\u001b[0m \u001b[0;31m# raw_data is defined only in terms of our MyRawData class\u001b[0m\u001b[0;34m\u001b[0m\u001b[0;34m\u001b[0m\u001b[0;34m\u001b[0m\u001b[0m\n\u001b[0;32m----> 2\u001b[0;31m \u001b[0mraw_data\u001b[0m \u001b[0;34m=\u001b[0m \u001b[0mget_raw_data\u001b[0m\u001b[0;34m(\u001b[0m\u001b[0;34m)\u001b[0m\u001b[0;34m\u001b[0m\u001b[0;34m\u001b[0m\u001b[0m\n\u001b[0m\u001b[1;32m      3\u001b[0m \u001b[0mraw_data\u001b[0m\u001b[0;34m\u001b[0m\u001b[0;34m\u001b[0m\u001b[0m\n",
      "\u001b[0;32m/tmp/ipykernel_3139/401807126.py\u001b[0m in \u001b[0;36mget_raw_data\u001b[0;34m()\u001b[0m\n\u001b[1;32m     41\u001b[0m         \u001b[0;32mreturn\u001b[0m \u001b[0mdf_dict\u001b[0m\u001b[0;34m\u001b[0m\u001b[0;34m\u001b[0m\u001b[0m\n\u001b[1;32m     42\u001b[0m \u001b[0;34m\u001b[0m\u001b[0m\n\u001b[0;32m---> 43\u001b[0;31m     \u001b[0mdata\u001b[0m \u001b[0;34m=\u001b[0m \u001b[0mflat_data\u001b[0m\u001b[0;34m(\u001b[0m\u001b[0;34m)\u001b[0m\u001b[0;34m\u001b[0m\u001b[0;34m\u001b[0m\u001b[0m\n\u001b[0m\u001b[1;32m     44\u001b[0m \u001b[0;34m\u001b[0m\u001b[0m\n\u001b[1;32m     45\u001b[0m     \u001b[0;32mreturn\u001b[0m \u001b[0;34m[\u001b[0m\u001b[0mGttRawData\u001b[0m\u001b[0;34m(\u001b[0m\u001b[0;34m**\u001b[0m\u001b[0mx\u001b[0m\u001b[0;34m)\u001b[0m \u001b[0;32mfor\u001b[0m \u001b[0mx\u001b[0m \u001b[0;32min\u001b[0m \u001b[0mdata\u001b[0m\u001b[0;34m]\u001b[0m\u001b[0;34m\u001b[0m\u001b[0;34m\u001b[0m\u001b[0m\n",
      "\u001b[0;32m/tmp/ipykernel_3139/401807126.py\u001b[0m in \u001b[0;36mflat_data\u001b[0;34m()\u001b[0m\n\u001b[1;32m     11\u001b[0m     \u001b[0;32mdef\u001b[0m \u001b[0mflat_data\u001b[0m\u001b[0;34m(\u001b[0m\u001b[0;34m)\u001b[0m\u001b[0;34m:\u001b[0m\u001b[0;34m\u001b[0m\u001b[0;34m\u001b[0m\u001b[0m\n\u001b[1;32m     12\u001b[0m \u001b[0;34m\u001b[0m\u001b[0m\n\u001b[0;32m---> 13\u001b[0;31m         \u001b[0mperiod\u001b[0m \u001b[0;34m=\u001b[0m \u001b[0mpd\u001b[0m\u001b[0;34m.\u001b[0m\u001b[0mjson_normalize\u001b[0m\u001b[0;34m(\u001b[0m\u001b[0mdf\u001b[0m\u001b[0;34m[\u001b[0m\u001b[0;34m'period'\u001b[0m\u001b[0;34m]\u001b[0m\u001b[0;34m)\u001b[0m\u001b[0;34m\u001b[0m\u001b[0;34m\u001b[0m\u001b[0m\n\u001b[0m\u001b[1;32m     14\u001b[0m         \u001b[0mperiod\u001b[0m\u001b[0;34m.\u001b[0m\u001b[0mcolumns\u001b[0m \u001b[0;34m=\u001b[0m \u001b[0;34m[\u001b[0m\u001b[0;34m'year'\u001b[0m\u001b[0;34m,\u001b[0m \u001b[0;34m'month'\u001b[0m\u001b[0;34m]\u001b[0m\u001b[0;34m\u001b[0m\u001b[0;34m\u001b[0m\u001b[0m\n\u001b[1;32m     15\u001b[0m         \u001b[0mperiod\u001b[0m\u001b[0;34m[\u001b[0m\u001b[0;34m\"reference_date\"\u001b[0m\u001b[0;34m]\u001b[0m \u001b[0;34m=\u001b[0m \u001b[0mperiod\u001b[0m\u001b[0;34m[\u001b[0m\u001b[0;34m\"year\"\u001b[0m\u001b[0;34m]\u001b[0m \u001b[0;34m+\u001b[0m \u001b[0mperiod\u001b[0m\u001b[0;34m[\u001b[0m\u001b[0;34m\"month\"\u001b[0m\u001b[0;34m]\u001b[0m\u001b[0;34m\u001b[0m\u001b[0;34m\u001b[0m\u001b[0m\n",
      "\u001b[0;32m/usr/local/lib/python3.9/site-packages/pandas/io/json/_normalize.py\u001b[0m in \u001b[0;36m_json_normalize\u001b[0;34m(data, record_path, meta, meta_prefix, record_prefix, errors, sep, max_level)\u001b[0m\n\u001b[1;32m    268\u001b[0m \u001b[0;34m\u001b[0m\u001b[0m\n\u001b[1;32m    269\u001b[0m     \u001b[0;32mif\u001b[0m \u001b[0mrecord_path\u001b[0m \u001b[0;32mis\u001b[0m \u001b[0;32mNone\u001b[0m\u001b[0;34m:\u001b[0m\u001b[0;34m\u001b[0m\u001b[0;34m\u001b[0m\u001b[0m\n\u001b[0;32m--> 270\u001b[0;31m         \u001b[0;32mif\u001b[0m \u001b[0many\u001b[0m\u001b[0;34m(\u001b[0m\u001b[0;34m[\u001b[0m\u001b[0misinstance\u001b[0m\u001b[0;34m(\u001b[0m\u001b[0mx\u001b[0m\u001b[0;34m,\u001b[0m \u001b[0mdict\u001b[0m\u001b[0;34m)\u001b[0m \u001b[0;32mfor\u001b[0m \u001b[0mx\u001b[0m \u001b[0;32min\u001b[0m \u001b[0my\u001b[0m\u001b[0;34m.\u001b[0m\u001b[0mvalues\u001b[0m\u001b[0;34m(\u001b[0m\u001b[0;34m)\u001b[0m\u001b[0;34m]\u001b[0m \u001b[0;32mfor\u001b[0m \u001b[0my\u001b[0m \u001b[0;32min\u001b[0m \u001b[0mdata\u001b[0m\u001b[0;34m)\u001b[0m\u001b[0;34m:\u001b[0m\u001b[0;34m\u001b[0m\u001b[0;34m\u001b[0m\u001b[0m\n\u001b[0m\u001b[1;32m    271\u001b[0m             \u001b[0;31m# naive normalization, this is idempotent for flat records\u001b[0m\u001b[0;34m\u001b[0m\u001b[0;34m\u001b[0m\u001b[0;34m\u001b[0m\u001b[0m\n\u001b[1;32m    272\u001b[0m             \u001b[0;31m# and potentially will inflate the data considerably for\u001b[0m\u001b[0;34m\u001b[0m\u001b[0;34m\u001b[0m\u001b[0;34m\u001b[0m\u001b[0m\n",
      "\u001b[0;32m/usr/local/lib/python3.9/site-packages/pandas/io/json/_normalize.py\u001b[0m in \u001b[0;36m<genexpr>\u001b[0;34m(.0)\u001b[0m\n\u001b[1;32m    268\u001b[0m \u001b[0;34m\u001b[0m\u001b[0m\n\u001b[1;32m    269\u001b[0m     \u001b[0;32mif\u001b[0m \u001b[0mrecord_path\u001b[0m \u001b[0;32mis\u001b[0m \u001b[0;32mNone\u001b[0m\u001b[0;34m:\u001b[0m\u001b[0;34m\u001b[0m\u001b[0;34m\u001b[0m\u001b[0m\n\u001b[0;32m--> 270\u001b[0;31m         \u001b[0;32mif\u001b[0m \u001b[0many\u001b[0m\u001b[0;34m(\u001b[0m\u001b[0;34m[\u001b[0m\u001b[0misinstance\u001b[0m\u001b[0;34m(\u001b[0m\u001b[0mx\u001b[0m\u001b[0;34m,\u001b[0m \u001b[0mdict\u001b[0m\u001b[0;34m)\u001b[0m \u001b[0;32mfor\u001b[0m \u001b[0mx\u001b[0m \u001b[0;32min\u001b[0m \u001b[0my\u001b[0m\u001b[0;34m.\u001b[0m\u001b[0mvalues\u001b[0m\u001b[0;34m(\u001b[0m\u001b[0;34m)\u001b[0m\u001b[0;34m]\u001b[0m \u001b[0;32mfor\u001b[0m \u001b[0my\u001b[0m \u001b[0;32min\u001b[0m \u001b[0mdata\u001b[0m\u001b[0;34m)\u001b[0m\u001b[0;34m:\u001b[0m\u001b[0;34m\u001b[0m\u001b[0;34m\u001b[0m\u001b[0m\n\u001b[0m\u001b[1;32m    271\u001b[0m             \u001b[0;31m# naive normalization, this is idempotent for flat records\u001b[0m\u001b[0;34m\u001b[0m\u001b[0;34m\u001b[0m\u001b[0;34m\u001b[0m\u001b[0m\n\u001b[1;32m    272\u001b[0m             \u001b[0;31m# and potentially will inflate the data considerably for\u001b[0m\u001b[0;34m\u001b[0m\u001b[0;34m\u001b[0m\u001b[0;34m\u001b[0m\u001b[0m\n",
      "\u001b[0;31mAttributeError\u001b[0m: 'list' object has no attribute 'values'"
     ]
    }
   ],
   "source": [
    "# raw_data is defined only in terms of our MyRawData class\n",
    "raw_data = get_raw_data()\n",
    "raw_data"
   ]
  },
  {
   "cell_type": "code",
   "execution_count": null,
   "id": "d7ca6327-73a3-460a-b73c-f66f9e174b8a",
   "metadata": {
    "tags": []
   },
   "outputs": [],
   "source": [
    "# Define both the input arguments and return type of the function in terms of data classes\n",
    "def transform_data(data: List[GttRawData]) -> List[GttCleanData]:\n",
    "    # Convert from dataclass to dataframe\n",
    "    df = pd.DataFrame([asdict(x) for x in data]) # convert data class into dict\n",
    "    \n",
    "    # Do some transformations\n",
    "    \n",
    "    product_map = loaders.load_product_map_gtt('../../fixtures/dim_product_gtt.csv')\n",
    "    df['product_key'] = df['commodity_code'].apply(lambda x: product_map[int(x)])\n",
    "    \n",
    "    country_map = loaders.load_country_map_gtt('../../fixtures/dim_country_gtt.csv')\n",
    "    df['source_country_id'] = df['reporter_id'].apply(lambda x: country_map[x])\n",
    "\n",
    "    df['destination_country_id'] = df['partner_id'].apply(lambda x: country_map[x])\n",
    "    \n",
    "    df = df.rename(columns={\"value_number\": \"value\", \"flowType\": \"concentration\"})\n",
    "    \n",
    "    def granularity(row):\n",
    "        if row['periodType'] == 'MONTHLY':\n",
    "            return '1'\n",
    "        elif row['periodType'] == 'QUARTERLY':\n",
    "            return '2'\n",
    "        else:\n",
    "            return '3'\n",
    "\n",
    "    df['granularity_key'] = df.apply(granularity, axis=1)\n",
    "    \n",
    "    df = df[[\"source_country_id\", \"destination_country_id\", \"reference_date\", \"granularity_key\", \"product_key\", \"concentration\", \"value\" ]]\n",
    "    \n",
    "    # Convert to output dataclass\n",
    "    return [GttCleanData(**x) for x in df.to_dict(orient=\"records\")]"
   ]
  },
  {
   "cell_type": "code",
   "execution_count": null,
   "id": "9d5a59c4-81b5-4e09-885c-9aab3bc3d1fc",
   "metadata": {},
   "outputs": [],
   "source": []
  },
  {
   "cell_type": "code",
   "execution_count": null,
   "id": "893231d1-79ae-4365-99c4-2bb1a68d1f5b",
   "metadata": {},
   "outputs": [],
   "source": []
  },
  {
   "cell_type": "code",
   "execution_count": null,
   "id": "697b2a41-64c0-4d6d-85f4-0126ee4eff02",
   "metadata": {},
   "outputs": [],
   "source": []
  },
  {
   "cell_type": "code",
   "execution_count": null,
   "id": "77083976-7254-4505-8e79-2c56d054a651",
   "metadata": {
    "tags": []
   },
   "outputs": [],
   "source": [
    "# transformed_data is defined only in terms of our MyCleanData class\n",
    "transformed_data = transform_data(raw_data)\n",
    "transformed_data"
   ]
  },
  {
   "cell_type": "code",
   "execution_count": null,
   "id": "f6a5886c-a5ae-42ed-9de8-6296838a7a13",
   "metadata": {},
   "outputs": [],
   "source": []
  },
  {
   "cell_type": "code",
   "execution_count": null,
   "id": "24b37f59-1c50-4546-970f-481a5cf14a7c",
   "metadata": {},
   "outputs": [],
   "source": []
  },
  {
   "cell_type": "markdown",
   "id": "7ab97f00-aba5-469a-b374-388a1559cc4d",
   "metadata": {
    "tags": []
   },
   "source": [
    "#### step 3\n",
    "insert list of dictionaries to db"
   ]
  },
  {
   "cell_type": "code",
   "execution_count": null,
   "id": "0c5746f4-effe-4de2-8636-8c06076eabdf",
   "metadata": {},
   "outputs": [],
   "source": [
    "from adsp_connectors.database import get_mysql_connector_from_env, get_mssql_connector_from_env\n",
    "import pandas as pd\n",
    "from tqdm import tqdm\n",
    "from adsp_connectors.database import MSSQLConnector\n",
    "import os\n",
    "from typing import List, Union"
   ]
  },
  {
   "cell_type": "code",
   "execution_count": null,
   "id": "c9e162ee-e9fd-4a9e-b181-4dfeb0e3f169",
   "metadata": {},
   "outputs": [],
   "source": [
    "class PrototypeMSSQLConnector(MSSQLConnector):\n",
    "    # Assumes that values in list are in insert column order\n",
    "    def insert_many(self, table: str, values: List[List[Union[str, float, int]]]):\n",
    "        sql = f\"INSERT INTO {table} VALUES ({','.join(['?']*len(values[0]))})\"\n",
    "        connection = self.connection()\n",
    "        cursor = connection.cursor()\n",
    "        cursor.fast_executemany = True\n",
    "        cursor.executemany(sql, values)\n",
    "        cursor.commit()\n",
    "        cursor.close()\n",
    "        connection.close()\n",
    "        return\n",
    "    \n",
    "    # Assumes that df cols are in insert column order\n",
    "    def insert_many_df(self, table: str, df: pd.DataFrame):\n",
    "        self.insert_many(table=table, values=df.values.tolist())\n",
    "        return\n",
    "\n",
    "\n",
    "fast_connector = PrototypeMSSQLConnector(host=os.environ[\"DATABASE_HOST\"],\n",
    "                                        dbname=os.environ[\"DATABASE_DBNAME\"],\n",
    "                                        user=os.environ[\"DATABASE_USER\"],\n",
    "                                        password=os.environ[\"DATABASE_PASSWORD\"])"
   ]
  },
  {
   "cell_type": "code",
   "execution_count": null,
   "id": "69c503ea-e26b-4066-808f-66d73c8a9646",
   "metadata": {},
   "outputs": [],
   "source": [
    "df = pd.DataFrame([asdict(x) for x in transformed_data], columns = ['source_country_id', 'destination_country_id', 'reference_date', 'granularity_key', 'product_key', 'concentration', 'value'])\n",
    "fast_connector.insert_many_df('fact_gtt', df)"
   ]
  },
  {
   "cell_type": "code",
   "execution_count": null,
   "id": "524c3123-ab0d-406f-a798-eb242e62a377",
   "metadata": {},
   "outputs": [],
   "source": [
    "df"
   ]
  },
  {
   "cell_type": "code",
   "execution_count": null,
   "id": "0838c7e1-a62e-4e2a-bbce-e520488cbbcb",
   "metadata": {},
   "outputs": [],
   "source": [
    "print(df.info())"
   ]
  },
  {
   "cell_type": "code",
   "execution_count": null,
   "id": "6e198df7-1336-43ee-934e-773b68f94ce6",
   "metadata": {},
   "outputs": [],
   "source": [
    "for el in df.iloc[0, :]:\n",
    "    print('Checking: {:s}.'.format(str(el)))\n",
    "    print(isinstance(el, np.generic))\n",
    "    try:\n",
    "        print(el.shape)\n",
    "        print('Is a NumPy array.')\n",
    "    except:\n",
    "        print('Is not a NumPy array.')\n",
    "    finally:\n",
    "        print('-----')"
   ]
  },
  {
   "cell_type": "code",
   "execution_count": null,
   "id": "7f5b6508-f699-4106-aebc-c9537b1fccad",
   "metadata": {},
   "outputs": [],
   "source": [
    "transformed_data"
   ]
  },
  {
   "cell_type": "code",
   "execution_count": null,
   "id": "659d4804-15b4-4150-ba9e-8fa8a5d77f1f",
   "metadata": {},
   "outputs": [],
   "source": []
  },
  {
   "cell_type": "code",
   "execution_count": null,
   "id": "c68c8190-0edb-416f-b417-2e4c99c3fa8d",
   "metadata": {},
   "outputs": [],
   "source": []
  },
  {
   "cell_type": "code",
   "execution_count": null,
   "id": "283c3a5d-410d-4566-97db-55df4f4c60cd",
   "metadata": {},
   "outputs": [],
   "source": []
  },
  {
   "cell_type": "code",
   "execution_count": null,
   "id": "ae0b689f-1873-4f75-9594-b1b376acb512",
   "metadata": {},
   "outputs": [],
   "source": []
  },
  {
   "cell_type": "code",
   "execution_count": null,
   "id": "57dd1d18-a5fd-468c-9812-697085489642",
   "metadata": {},
   "outputs": [],
   "source": []
  },
  {
   "cell_type": "code",
   "execution_count": null,
   "id": "4dbc4b5d-9c94-4d6e-bb57-c1d61ef32cda",
   "metadata": {},
   "outputs": [],
   "source": [
    "db = MySQLdb.connect(...)\n",
    "cursor = db.cursor()\n",
    "\n",
    "data = df2_dict\n",
    "\n",
    "cursor.executemany(\"\"\"\n",
    "    INSERT INTO foo (source_country_id, destination_country_id, reference_date, granularity_key, product_key, value)\n",
    "    VALUES (%(name)s, %(gender)s)\"\"\", data)\n",
    "db.commit() "
   ]
  },
  {
   "cell_type": "code",
   "execution_count": null,
   "id": "1425b7e3-b973-4977-ad56-19d7abb2b63f",
   "metadata": {},
   "outputs": [],
   "source": []
  },
  {
   "cell_type": "code",
   "execution_count": null,
   "id": "98b12ea4-aad9-4dc0-995b-d9251b9a7587",
   "metadata": {},
   "outputs": [],
   "source": []
  },
  {
   "cell_type": "code",
   "execution_count": null,
   "id": "cd20876e-9301-42f2-8486-845c781dee72",
   "metadata": {},
   "outputs": [],
   "source": []
  },
  {
   "cell_type": "code",
   "execution_count": null,
   "id": "64b1603f-29cb-4ad8-a14c-dff5ca2b9b4f",
   "metadata": {},
   "outputs": [],
   "source": []
  }
 ],
 "metadata": {
  "kernelspec": {
   "display_name": "Python 3 (ipykernel)",
   "language": "python",
   "name": "python3"
  },
  "language_info": {
   "codemirror_mode": {
    "name": "ipython",
    "version": 3
   },
   "file_extension": ".py",
   "mimetype": "text/x-python",
   "name": "python",
   "nbconvert_exporter": "python",
   "pygments_lexer": "ipython3",
   "version": "3.9.0"
  }
 },
 "nbformat": 4,
 "nbformat_minor": 5
}
